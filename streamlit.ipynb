{
  "nbformat": 4,
  "nbformat_minor": 0,
  "metadata": {
    "colab": {
      "provenance": [],
      "toc_visible": true,
      "mount_file_id": "1xMphHk5BfeKCMg3gUsEGjVpKO4DZmxsr",
      "authorship_tag": "ABX9TyPLw26mfcAvHAB9Czwv0Rwk",
      "include_colab_link": true
    },
    "kernelspec": {
      "name": "python3",
      "display_name": "Python 3"
    },
    "language_info": {
      "name": "python"
    }
  },
  "cells": [
    {
      "cell_type": "markdown",
      "metadata": {
        "id": "view-in-github",
        "colab_type": "text"
      },
      "source": [
        "<a href=\"https://colab.research.google.com/github/bearicekma/Directory/blob/main/streamlit.ipynb\" target=\"_parent\"><img src=\"https://colab.research.google.com/assets/colab-badge.svg\" alt=\"Open In Colab\"/></a>"
      ]
    },
    {
      "cell_type": "code",
      "source": [
        "%pip install streamlit --quiet\n",
        "%pip install pygwalker --quiet"
      ],
      "metadata": {
        "id": "bbfzTkDm-TGJ",
        "colab": {
          "base_uri": "https://localhost:8080/"
        },
        "outputId": "dc4d7515-6a0a-4402-d885-fcffa83617a6"
      },
      "execution_count": 1,
      "outputs": [
        {
          "output_type": "stream",
          "name": "stdout",
          "text": [
            "\u001b[2K     \u001b[90m━━━━━━━━━━━━━━━━━━━━━━━━━━━━━━━━━━━━━━━━\u001b[0m \u001b[32m8.6/8.6 MB\u001b[0m \u001b[31m21.0 MB/s\u001b[0m eta \u001b[36m0:00:00\u001b[0m\n",
            "\u001b[2K     \u001b[90m━━━━━━━━━━━━━━━━━━━━━━━━━━━━━━━━━━━━━━━━\u001b[0m \u001b[32m207.3/207.3 kB\u001b[0m \u001b[31m21.4 MB/s\u001b[0m eta \u001b[36m0:00:00\u001b[0m\n",
            "\u001b[2K     \u001b[90m━━━━━━━━━━━━━━━━━━━━━━━━━━━━━━━━━━━━━━━━\u001b[0m \u001b[32m6.9/6.9 MB\u001b[0m \u001b[31m54.4 MB/s\u001b[0m eta \u001b[36m0:00:00\u001b[0m\n",
            "\u001b[2K     \u001b[90m━━━━━━━━━━━━━━━━━━━━━━━━━━━━━━━━━━━━━━━━\u001b[0m \u001b[32m83.0/83.0 kB\u001b[0m \u001b[31m10.2 MB/s\u001b[0m eta \u001b[36m0:00:00\u001b[0m\n",
            "\u001b[2K     \u001b[90m━━━━━━━━━━━━━━━━━━━━━━━━━━━━━━━━━━━━━━━━\u001b[0m \u001b[32m62.7/62.7 kB\u001b[0m \u001b[31m8.0 MB/s\u001b[0m eta \u001b[36m0:00:00\u001b[0m\n",
            "\u001b[2K     \u001b[90m━━━━━━━━━━━━━━━━━━━━━━━━━━━━━━━━━━━━━━━━\u001b[0m \u001b[32m2.2/2.2 MB\u001b[0m \u001b[31m11.2 MB/s\u001b[0m eta \u001b[36m0:00:00\u001b[0m\n",
            "\u001b[2K     \u001b[90m━━━━━━━━━━━━━━━━━━━━━━━━━━━━━━━━━━━━━━━━\u001b[0m \u001b[32m66.4/66.4 kB\u001b[0m \u001b[31m9.0 MB/s\u001b[0m eta \u001b[36m0:00:00\u001b[0m\n",
            "\u001b[2K     \u001b[90m━━━━━━━━━━━━━━━━━━━━━━━━━━━━━━━━━━━━━━━━\u001b[0m \u001b[32m956.2/956.2 kB\u001b[0m \u001b[31m20.4 MB/s\u001b[0m eta \u001b[36m0:00:00\u001b[0m\n",
            "\u001b[2K     \u001b[90m━━━━━━━━━━━━━━━━━━━━━━━━━━━━━━━━━━━━━━━━\u001b[0m \u001b[32m384.0/384.0 kB\u001b[0m \u001b[31m21.3 MB/s\u001b[0m eta \u001b[36m0:00:00\u001b[0m\n",
            "\u001b[2K     \u001b[90m━━━━━━━━━━━━━━━━━━━━━━━━━━━━━━━━━━━━━━━━\u001b[0m \u001b[32m5.4/5.4 MB\u001b[0m \u001b[31m36.7 MB/s\u001b[0m eta \u001b[36m0:00:00\u001b[0m\n",
            "\u001b[2K     \u001b[90m━━━━━━━━━━━━━━━━━━━━━━━━━━━━━━━━━━━━━━━━\u001b[0m \u001b[32m1.6/1.6 MB\u001b[0m \u001b[31m49.4 MB/s\u001b[0m eta \u001b[36m0:00:00\u001b[0m\n",
            "\u001b[?25h\u001b[31mERROR: pip's dependency resolver does not currently take into account all the packages that are installed. This behaviour is the source of the following dependency conflicts.\n",
            "bigframes 1.8.0 requires sqlglot<=20.11,>=20.8.0, but you have sqlglot 25.2.0 which is incompatible.\n",
            "ibis-framework 8.0.0 requires sqlglot<=20.11,>=18.12.0, but you have sqlglot 25.2.0 which is incompatible.\u001b[0m\u001b[31m\n",
            "\u001b[0m"
          ]
        }
      ]
    },
    {
      "cell_type": "code",
      "source": [
        "import streamlit as st"
      ],
      "metadata": {
        "id": "CnwkvIIoaiXo"
      },
      "execution_count": 2,
      "outputs": []
    },
    {
      "cell_type": "code",
      "source": [
        "%pwd"
      ],
      "metadata": {
        "colab": {
          "base_uri": "https://localhost:8080/",
          "height": 36
        },
        "id": "hQxrrs96VkGs",
        "outputId": "67d7d449-e1ae-4e5e-9e5e-1b88d1b8b84f"
      },
      "execution_count": 3,
      "outputs": [
        {
          "output_type": "execute_result",
          "data": {
            "text/plain": [
              "'/content'"
            ],
            "application/vnd.google.colaboratory.intrinsic+json": {
              "type": "string"
            }
          },
          "metadata": {},
          "execution_count": 3
        }
      ]
    },
    {
      "cell_type": "code",
      "source": [
        "%%writefile streamlit_app.py\n",
        "#以下をapp.pyに書き込む\n",
        "import pandas as pd\n",
        "import pygwalker as pyg\n",
        "import streamlit as st\n",
        "\n",
        "# ワイド表示\n",
        "st.set_page_config(layout=\"wide\")\n",
        "\n",
        "# タイトル\n",
        "st.title(\"Data Analysis with PyGWalker.\")\n",
        "\n",
        "# データフレームの用意\n",
        "df = None\n",
        "\n",
        "# ファイル選択\n",
        "with st.sidebar:\n",
        "    uploaded_files = st.file_uploader(\"Choose a CSV file\")\n",
        "    if uploaded_files is not None:\n",
        "        df = pd.read_csv(uploaded_files)\n",
        "\n",
        "# pygwalkerで表示\n",
        "pyg.walk(df, env='Streamlit')"
      ],
      "metadata": {
        "colab": {
          "base_uri": "https://localhost:8080/"
        },
        "id": "uolL8zF4bIW-",
        "outputId": "7f1d0faf-fa2c-4a9b-b680-a60af914ea37"
      },
      "execution_count": 4,
      "outputs": [
        {
          "output_type": "stream",
          "name": "stdout",
          "text": [
            "Writing streamlit_app.py\n"
          ]
        }
      ]
    },
    {
      "cell_type": "code",
      "source": [
        "!streamlit run app.py & sleep 3 && npx localtunnel --port 8501"
      ],
      "metadata": {
        "colab": {
          "base_uri": "https://localhost:8080/"
        },
        "id": "iOxXS4C_ctXD",
        "outputId": "9286b2c2-71df-4809-96a4-ce4a6e559ea3"
      },
      "execution_count": null,
      "outputs": [
        {
          "output_type": "stream",
          "name": "stdout",
          "text": [
            "\n",
            "Collecting usage statistics. To deactivate, set browser.gatherUsageStats to False.\n",
            "\u001b[0m\n",
            "\u001b[K\u001b[?25hnpx: installed 22 in 3.109s\n",
            "your url is: https://yellow-garlics-poke.loca.lt\n",
            "\u001b[0m\n",
            "\u001b[34m\u001b[1m  You can now view your Streamlit app in your browser.\u001b[0m\n",
            "\u001b[0m\n",
            "\u001b[34m  Network URL: \u001b[0m\u001b[1mhttp://172.28.0.12:8501\u001b[0m\n",
            "\u001b[34m  External URL: \u001b[0m\u001b[1mhttp://34.73.237.18:8501\u001b[0m\n",
            "\u001b[0m\n",
            "2023-10-12 11:33:46.497 Uncaught app exception\n",
            "Traceback (most recent call last):\n",
            "  File \"/usr/local/lib/python3.10/dist-packages/streamlit/runtime/scriptrunner/script_runner.py\", line 541, in _run_script\n",
            "    exec(code, module.__dict__)\n",
            "  File \"/content/app.py\", line 23, in <module>\n",
            "    pyg.walk(df, env='Streamlit')\n",
            "  File \"/usr/local/lib/python3.10/dist-packages/pygwalker/api/walker.py\", line 55, in walk\n",
            "    walker = PygWalker(\n",
            "  File \"/usr/local/lib/python3.10/dist-packages/pygwalker/api/pygwalker.py\", line 57, in __init__\n",
            "    self.data_parser = get_parser(dataset, use_kernel_calc, field_specs)\n",
            "  File \"/usr/local/lib/python3.10/dist-packages/pygwalker/services/data_parsers.py\", line 63, in get_parser\n",
            "    parser = _get_data_parser(dataset)(dataset, use_kernel_calc, field_specs)\n",
            "  File \"/usr/local/lib/python3.10/dist-packages/pygwalker/services/data_parsers.py\", line 53, in _get_data_parser\n",
            "    raise TypeError(f\"Unsupported data type: {type(dataset)}\")\n",
            "TypeError: Unsupported data type: <class 'NoneType'>\n",
            "2023-10-12 11:35:36.868 Uncaught app exception\n",
            "Traceback (most recent call last):\n",
            "  File \"/usr/local/lib/python3.10/dist-packages/streamlit/runtime/scriptrunner/script_runner.py\", line 541, in _run_script\n",
            "    exec(code, module.__dict__)\n",
            "  File \"/content/app.py\", line 23, in <module>\n",
            "    pyg.walk(df, env='Streamlit')\n",
            "  File \"/usr/local/lib/python3.10/dist-packages/pygwalker/api/walker.py\", line 55, in walk\n",
            "    walker = PygWalker(\n",
            "  File \"/usr/local/lib/python3.10/dist-packages/pygwalker/api/pygwalker.py\", line 57, in __init__\n",
            "    self.data_parser = get_parser(dataset, use_kernel_calc, field_specs)\n",
            "  File \"/usr/local/lib/python3.10/dist-packages/pygwalker/services/data_parsers.py\", line 63, in get_parser\n",
            "    parser = _get_data_parser(dataset)(dataset, use_kernel_calc, field_specs)\n",
            "  File \"/usr/local/lib/python3.10/dist-packages/pygwalker/services/data_parsers.py\", line 53, in _get_data_parser\n",
            "    raise TypeError(f\"Unsupported data type: {type(dataset)}\")\n",
            "TypeError: Unsupported data type: <class 'NoneType'>\n",
            "\u001b[34m  Stopping...\u001b[0m\n",
            "^C\n"
          ]
        }
      ]
    }
  ]
}